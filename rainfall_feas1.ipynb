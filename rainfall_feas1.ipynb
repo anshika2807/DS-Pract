{
  "nbformat": 4,
  "nbformat_minor": 0,
  "metadata": {
    "colab": {
      "provenance": [],
      "include_colab_link": true
    },
    "kernelspec": {
      "name": "python3",
      "display_name": "Python 3"
    },
    "language_info": {
      "name": "python"
    }
  },
  "cells": [
    {
      "cell_type": "markdown",
      "metadata": {
        "id": "view-in-github",
        "colab_type": "text"
      },
      "source": [
        "<a href=\"https://colab.research.google.com/github/anshika2807/DS-Pract/blob/main/rainfall_feas1.ipynb\" target=\"_parent\"><img src=\"https://colab.research.google.com/assets/colab-badge.svg\" alt=\"Open In Colab\"/></a>"
      ]
    },
    {
      "cell_type": "code",
      "execution_count": null,
      "metadata": {
        "id": "WODHLt9i9RY2"
      },
      "outputs": [],
      "source": [
        "# importing useful libraries\n",
        "import numpy as np\n",
        "import pandas as pd\n",
        "from sklearn.model_selection import train_test_split\n",
        "from sklearn.linear_model import LinearRegression\n",
        "from sklearn.metrics import r2_score, mean_squared_error\n",
        "from sklearn.preprocessing import LabelEncoder"
      ]
    },
    {
      "cell_type": "code",
      "source": [
        "# Generate a larger, more realistic dataset\n",
        "num_sites = 200\n",
        "site_data = {\n",
        "    \"District\": np.random.choice([\"North Goa\", \"South Goa\", \"Central Goa\"], num_sites),\n",
        "    \"Rooftop_Area_m2\": np.random.randint(100, 500, num_sites),\n",
        "    \"Rainfall_mm\": np.random.randint(800, 2000, num_sites),\n",
        "    \"Roof_Eff\": np.random.uniform(0.7, 0.95, num_sites),\n",
        "    \"Dwellers\": np.random.randint(2, 10, num_sites),\n",
        "    #generating feasibility score\n",
        "    \"Feasibility_Score\": (np.random.randint(100, 500, num_sites) * np.random.uniform(0.7, 0.95, num_sites) + np.random.randint(800, 2000, num_sites) * np.random.uniform(0.7, 0.95, num_sites)) / 100\n",
        "}\n",
        "df = pd.DataFrame(site_data)\n"
      ],
      "metadata": {
        "id": "3-pfNG4A9frY"
      },
      "execution_count": null,
      "outputs": []
    },
    {
      "cell_type": "code",
      "source": [
        "# Define features (X) and target (y)\n",
        "X = df.drop('Feasibility_Score', axis=1)\n",
        "y = df['Feasibility_Score']\n",
        "# Handle categorical features using Label Encoding\n",
        "label_encoders = {}\n",
        "for column in ['District']:\n",
        "    label_encoders[column] = LabelEncoder()\n",
        "    X[column] = label_encoders[column].fit_transform(X[column])"
      ],
      "metadata": {
        "id": "DbiQmAYV95Be"
      },
      "execution_count": null,
      "outputs": []
    },
    {
      "cell_type": "code",
      "source": [
        "# Perform train-test split\n",
        "X_train, X_test, y_train, y_test = train_test_split(X, y, test_size=0.3, random_state=42)\n",
        "\n",
        "# Initialize and train the Linear Regression model\n",
        "model = LinearRegression()\n",
        "model.fit(X_train, y_train)\n",
        "\n",
        "# Make predictions on the test set\n",
        "y_pred = model.predict(X_test)\n"
      ],
      "metadata": {
        "id": "QOFZekLq-Dy8"
      },
      "execution_count": null,
      "outputs": []
    },
    {
      "cell_type": "code",
      "source": [
        "# Evaluate the model\n",
        "mse = mean_squared_error(y_test, y_pred)\n",
        "r2 = r2_score(y_test, y_pred)\n",
        "\n",
        "print(\"Mean Squared Error:\", mse)\n",
        "print(\"R² Score:\", r2)"
      ],
      "metadata": {
        "colab": {
          "base_uri": "https://localhost:8080/"
        },
        "id": "lvyE4C0I-KNv",
        "outputId": "5793ec36-adbf-4cf5-9bba-fdc4eb71af13"
      },
      "execution_count": null,
      "outputs": [
        {
          "output_type": "stream",
          "name": "stdout",
          "text": [
            "Mean Squared Error: 9.920511262113413\n",
            "R² Score: 0.0012576100443498772\n"
          ]
        }
      ]
    }
  ]
}